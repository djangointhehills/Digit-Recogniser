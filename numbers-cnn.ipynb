{
  "nbformat": 4,
  "nbformat_minor": 0,
  "metadata": {
    "kernelspec": {
      "language": "python",
      "display_name": "Python 3",
      "name": "python3"
    },
    "language_info": {
      "name": "python",
      "version": "3.7.10",
      "mimetype": "text/x-python",
      "codemirror_mode": {
        "name": "ipython",
        "version": 3
      },
      "pygments_lexer": "ipython3",
      "nbconvert_exporter": "python",
      "file_extension": ".py"
    },
    "colab": {
      "name": "numbers-cnn.ipynb",
      "provenance": []
    }
  },
  "cells": [
    {
      "cell_type": "code",
      "metadata": {
        "_uuid": "8f2839f25d086af736a60e9eeb907d3b93b6e0e5",
        "_cell_guid": "b1076dfc-b9ad-4769-8c92-a6c4dae69d19",
        "execution": {
          "iopub.status.busy": "2021-08-04T02:19:50.145390Z",
          "iopub.execute_input": "2021-08-04T02:19:50.145823Z",
          "iopub.status.idle": "2021-08-04T02:19:57.020630Z",
          "shell.execute_reply.started": "2021-08-04T02:19:50.145696Z",
          "shell.execute_reply": "2021-08-04T02:19:57.019030Z"
        },
        "trusted": true,
        "id": "FDYICBJJAuZP",
        "outputId": "24ae22b6-68e3-463d-e23e-7545f65c244a"
      },
      "source": [
        "from keras.preprocessing.image import ImageDataGenerator\n",
        "import matplotlib.pyplot as plt\n",
        "%matplotlib inline\n",
        "import numpy as np\n",
        "import pandas as pd \n",
        "import seaborn as sns\n",
        "from sklearn.metrics import confusion_matrix\n",
        "from sklearn.metrics import ConfusionMatrixDisplay\n",
        "from sklearn.model_selection import train_test_split\n",
        "import tensorflow as tf\n",
        "from tensorflow import keras\n",
        "from tensorflow.keras import layers\n",
        "from tensorflow.keras.layers.experimental import preprocessing\n",
        "import time, os\n",
        "import torch\n",
        "from torch.utils import data\n",
        "import torchvision\n",
        "import torchvision.transforms as transforms"
      ],
      "execution_count": null,
      "outputs": [
        {
          "output_type": "stream",
          "text": [
            "/kaggle/input/digit-recognizer/sample_submission.csv\n",
            "/kaggle/input/digit-recognizer/train.csv\n",
            "/kaggle/input/digit-recognizer/test.csv\n"
          ],
          "name": "stdout"
        }
      ]
    },
    {
      "cell_type": "markdown",
      "metadata": {
        "id": "jNoeetENAuZW"
      },
      "source": [
        "# Load data in"
      ]
    },
    {
      "cell_type": "code",
      "metadata": {
        "execution": {
          "iopub.status.busy": "2021-08-03T12:13:21.226635Z",
          "iopub.execute_input": "2021-08-03T12:13:21.226997Z",
          "iopub.status.idle": "2021-08-03T12:13:25.348594Z",
          "shell.execute_reply.started": "2021-08-03T12:13:21.226966Z",
          "shell.execute_reply": "2021-08-03T12:13:25.347733Z"
        },
        "trusted": true,
        "id": "S_SkxUNrAuZW"
      },
      "source": [
        "# Load in data.\n",
        "train_data = pd.read_csv('../input/digit-recognizer/train.csv')\n",
        "test_data = pd.read_csv('../input/digit-recognizer/test.csv')"
      ],
      "execution_count": null,
      "outputs": []
    },
    {
      "cell_type": "code",
      "metadata": {
        "execution": {
          "iopub.status.busy": "2021-08-03T12:13:25.350142Z",
          "iopub.execute_input": "2021-08-03T12:13:25.350495Z",
          "iopub.status.idle": "2021-08-03T12:13:25.916958Z",
          "shell.execute_reply.started": "2021-08-03T12:13:25.35046Z",
          "shell.execute_reply": "2021-08-03T12:13:25.915786Z"
        },
        "trusted": true,
        "id": "vv65OyH8AuZX"
      },
      "source": [
        "# Split\n",
        "train_y = train_data.label.to_numpy()\n",
        "train_x = train_data.to_numpy()[0:,1:].reshape(len(train_data),28,28,1)\n",
        "test_x = test_data.to_numpy().reshape(len(test_data),28,28,1)\n",
        "\n",
        "# Normalise - to speed up model. Better if values are between [0,1] then [0,255].\n",
        "train_x = train_x/255\n",
        "test_x = test_x/255\n",
        "\n",
        "train_x, dev_x, train_y, dev_y = train_test_split(train_x, train_y, test_size=0.2, random_state=42)"
      ],
      "execution_count": null,
      "outputs": []
    },
    {
      "cell_type": "code",
      "metadata": {
        "execution": {
          "iopub.status.busy": "2021-08-03T12:13:25.91897Z",
          "iopub.execute_input": "2021-08-03T12:13:25.91956Z",
          "iopub.status.idle": "2021-08-03T12:13:26.121691Z",
          "shell.execute_reply.started": "2021-08-03T12:13:25.919512Z",
          "shell.execute_reply": "2021-08-03T12:13:26.120781Z"
        },
        "trusted": true,
        "id": "CaL7b8xlAuZY"
      },
      "source": [
        "# lets ckeck one image and its actual label\n",
        "image = train_x[232]\n",
        "plt.imshow(image.squeeze())\n",
        "print(train_y[232])"
      ],
      "execution_count": null,
      "outputs": []
    },
    {
      "cell_type": "markdown",
      "metadata": {
        "id": "qxJTrEPwAuZa"
      },
      "source": [
        "# Exploration"
      ]
    },
    {
      "cell_type": "markdown",
      "metadata": {
        "id": "8ENdWSL4AuZc"
      },
      "source": [
        "# Preprocessing"
      ]
    },
    {
      "cell_type": "markdown",
      "metadata": {
        "id": "dCV2YJNUAuZe"
      },
      "source": [
        "# Model"
      ]
    },
    {
      "cell_type": "code",
      "metadata": {
        "execution": {
          "iopub.status.busy": "2021-08-03T12:27:27.549083Z",
          "iopub.execute_input": "2021-08-03T12:27:27.549409Z",
          "iopub.status.idle": "2021-08-03T12:27:27.6328Z",
          "shell.execute_reply.started": "2021-08-03T12:27:27.549381Z",
          "shell.execute_reply": "2021-08-03T12:27:27.629702Z"
        },
        "trusted": true,
        "id": "uk8jVp45AuZe"
      },
      "source": [
        "model = keras.Sequential([\n",
        "    \n",
        "    # First Convolutional Block\n",
        "    layers.Conv2D(filters=64, kernel_size=3, activation=\"relu\", padding='same', input_shape=[28, 28, 1]),\n",
        "    layers.MaxPool2D(2),\n",
        "\n",
        "    # Second Convolutional Block\n",
        "    layers.Conv2D(filters=128, kernel_size=3, activation=\"relu\", padding='same'),\n",
        "    layers.MaxPool2D(2),\n",
        "\n",
        "    # Third Convolutional Block\n",
        "    layers.Conv2D(filters=256, kernel_size=3, activation=\"relu\", padding='same'),\n",
        "    layers.MaxPool2D(2),\n",
        "    \n",
        "    # Fourth Convolutional Block\n",
        "    layers.Conv2D(filters=512, kernel_size=3, activation=\"relu\", padding='same'),\n",
        "    layers.MaxPool2D(2),\n",
        "    \n",
        "    layers.Flatten(),\n",
        "    layers.Dropout(.2),\n",
        "    \n",
        "    layers.Dense(64,activation='relu'),\n",
        "    layers.Dense(10,activation='sigmoid')\n",
        "    \n",
        "])\n",
        "\n",
        "# model = keras.Sequential(\n",
        "#     [keras.layers.Dense(100,input_shape=(784,),activation='relu'),\n",
        "#     keras.layers.Dense(10,activation='sigmoid')])\n",
        "\n",
        "model.summary()"
      ],
      "execution_count": null,
      "outputs": []
    },
    {
      "cell_type": "code",
      "metadata": {
        "execution": {
          "iopub.status.busy": "2021-08-03T12:28:31.251766Z",
          "iopub.execute_input": "2021-08-03T12:28:31.252093Z",
          "iopub.status.idle": "2021-08-03T12:28:31.301891Z",
          "shell.execute_reply.started": "2021-08-03T12:28:31.252065Z",
          "shell.execute_reply": "2021-08-03T12:28:31.301007Z"
        },
        "trusted": true,
        "id": "_N9ARIc4AuZf"
      },
      "source": [
        "#Data Augmentation \n",
        "datagen = ImageDataGenerator(\n",
        "        featurewise_center=False, # set input mean to 0 over the dataset\n",
        "        samplewise_center=False,  # set each sample mean to 0\n",
        "        featurewise_std_normalization=False,  # divide inputs by std of the dataset\n",
        "        samplewise_std_normalization=False,  # divide each input by its std\n",
        "        zca_whitening=False,  # apply ZCA whitening\n",
        "        rotation_range=10,  # randomly rotate images in the range (degrees, 0 to 180)\n",
        "        zoom_range = 0.1, # Randomly zoom image \n",
        "        width_shift_range=0.1,  # randomly shift images horizontally (fraction of total width)\n",
        "        height_shift_range=0.1,  # randomly shift images vertically (fraction of total height)\n",
        "        horizontal_flip=False,  # randomly flip images\n",
        "        vertical_flip=False)  # randomly flip images\n",
        "\n",
        "#datagen.fit(X_train)\n",
        "train_gen = datagen.flow(train_x,train_y, batch_size=32)\n"
      ],
      "execution_count": null,
      "outputs": []
    },
    {
      "cell_type": "code",
      "metadata": {
        "execution": {
          "iopub.status.busy": "2021-08-03T12:29:49.092584Z",
          "iopub.execute_input": "2021-08-03T12:29:49.092936Z",
          "iopub.status.idle": "2021-08-03T12:34:07.445983Z",
          "shell.execute_reply.started": "2021-08-03T12:29:49.092906Z",
          "shell.execute_reply": "2021-08-03T12:34:07.445065Z"
        },
        "trusted": true,
        "id": "6yObZNYLAuZg"
      },
      "source": [
        "model.compile(\n",
        "    optimizer=tf.keras.optimizers.Adam(epsilon=0.01),\n",
        "    loss='sparse_categorical_crossentropy',\n",
        "    metrics=['accuracy']\n",
        ")\n",
        "\n",
        "history = model.fit(\n",
        "    train_gen,\n",
        "    epochs=20,\n",
        "    verbose=1,\n",
        ")"
      ],
      "execution_count": null,
      "outputs": []
    },
    {
      "cell_type": "code",
      "metadata": {
        "execution": {
          "iopub.status.busy": "2021-08-03T12:46:28.130186Z",
          "iopub.execute_input": "2021-08-03T12:46:28.130542Z",
          "iopub.status.idle": "2021-08-03T12:46:28.581438Z",
          "shell.execute_reply.started": "2021-08-03T12:46:28.130514Z",
          "shell.execute_reply": "2021-08-03T12:46:28.580541Z"
        },
        "trusted": true,
        "id": "QUt7QSgtAuZg"
      },
      "source": [
        "dev_preds = model.predict(dev_x)\n",
        "dev_preds = np.argmax(dev_preds, axis=1)\n",
        "dev_preds"
      ],
      "execution_count": null,
      "outputs": []
    },
    {
      "cell_type": "code",
      "metadata": {
        "execution": {
          "iopub.status.busy": "2021-08-03T12:46:31.697037Z",
          "iopub.execute_input": "2021-08-03T12:46:31.697359Z",
          "iopub.status.idle": "2021-08-03T12:46:32.284981Z",
          "shell.execute_reply.started": "2021-08-03T12:46:31.697329Z",
          "shell.execute_reply": "2021-08-03T12:46:32.283998Z"
        },
        "trusted": true,
        "id": "AMrR_yVkAuZh"
      },
      "source": [
        "fig, ax = plt.subplots(figsize=(12, 12))\n",
        "cm = confusion_matrix(dev_y,dev_preds, normalize='true')\n",
        "disp = ConfusionMatrixDisplay(confusion_matrix=cm, display_labels = [0,1,2,3,4,5,6,7,8,9])\n",
        "disp = disp.plot(ax=ax)\n",
        "ax.set_title(\"Confusion Matrix\")\n",
        "plt.show()\n",
        "%matplotlib inline"
      ],
      "execution_count": null,
      "outputs": []
    },
    {
      "cell_type": "code",
      "metadata": {
        "execution": {
          "iopub.status.busy": "2021-08-03T12:46:40.898184Z",
          "iopub.execute_input": "2021-08-03T12:46:40.898502Z",
          "iopub.status.idle": "2021-08-03T12:46:42.422572Z",
          "shell.execute_reply.started": "2021-08-03T12:46:40.898473Z",
          "shell.execute_reply": "2021-08-03T12:46:42.421732Z"
        },
        "trusted": true,
        "id": "aHR1XozoAuZh"
      },
      "source": [
        "# test_data_new = test_data.to_numpy().reshape(len(test_data),28*28)\n",
        "test_preds = model.predict(test_x)\n",
        "test_preds = np.argmax(test_preds, axis=1)\n",
        "output = pd.DataFrame({'ImageId': range(1,28001), 'Label': test_preds})\n",
        "output.to_csv('First.csv', index=False)\n",
        "print(\"Your submission was successfully saved!\")"
      ],
      "execution_count": null,
      "outputs": []
    }
  ]
}