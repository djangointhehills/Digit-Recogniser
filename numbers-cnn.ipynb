{
  "nbformat": 4,
  "nbformat_minor": 0,
  "metadata": {
    "kernelspec": {
      "language": "python",
      "display_name": "Python 3",
      "name": "python3"
    },
    "language_info": {
      "name": "python",
      "version": "3.7.10",
      "mimetype": "text/x-python",
      "codemirror_mode": {
        "name": "ipython",
        "version": 3
      },
      "pygments_lexer": "ipython3",
      "nbconvert_exporter": "python",
      "file_extension": ".py"
    },
    "colab": {
      "name": "numbers-cnn.ipynb",
      "provenance": []
    }
  },
  "cells": [
    {
      "cell_type": "markdown",
      "metadata": {
        "id": "27VtFH7HDxLt"
      },
      "source": [
        "# About\n",
        "\n",
        "The purpose of this notebook is to develop my own understanding of CNNs and how to implement them, using the the Kaggle 'Digit Recogniser' competition as a conduit.\n",
        "\n",
        "The competition details and dataset can be found here:\n",
        "https://www.kaggle.com/c/digit-recognizer\n",
        "\n",
        "The competition description reads as follows:\n",
        "\n",
        "\"MNIST (\"Modified National Institute of Standards and Technology\") is the de facto “hello world” dataset of computer vision. Since its release in 1999, this classic dataset of handwritten images has served as the basis for benchmarking classification algorithms. As new machine learning techniques emerge, MNIST remains a reliable resource for researchers and learners alike.\n",
        "\n",
        "In this competition, your goal is to correctly identify digits from a dataset of tens of thousands of handwritten images. We’ve curated a set of tutorial-style kernels which cover everything from regression to neural networks. We encourage you to experiment with different algorithms to learn first-hand what works well and how techniques compare.\"\n"
      ]
    },
    {
      "cell_type": "markdown",
      "metadata": {
        "id": "gZFy94v-DVI9"
      },
      "source": [
        "# Imports"
      ]
    },
    {
      "cell_type": "code",
      "metadata": {
        "id": "Ohs_lte7TlQv",
        "outputId": "8e91f3bd-76dc-4586-8002-b92c88dc58c2",
        "colab": {
          "base_uri": "https://localhost:8080/"
        }
      },
      "source": [
        "from google.colab import drive\n",
        "drive.mount('/content/drive')"
      ],
      "execution_count": 4,
      "outputs": [
        {
          "output_type": "stream",
          "text": [
            "Drive already mounted at /content/drive; to attempt to forcibly remount, call drive.mount(\"/content/drive\", force_remount=True).\n"
          ],
          "name": "stdout"
        }
      ]
    },
    {
      "cell_type": "code",
      "metadata": {
        "_uuid": "8f2839f25d086af736a60e9eeb907d3b93b6e0e5",
        "_cell_guid": "b1076dfc-b9ad-4769-8c92-a6c4dae69d19",
        "execution": {
          "iopub.status.busy": "2021-08-04T02:19:50.145390Z",
          "iopub.execute_input": "2021-08-04T02:19:50.145823Z",
          "iopub.status.idle": "2021-08-04T02:19:57.020630Z",
          "shell.execute_reply.started": "2021-08-04T02:19:50.145696Z",
          "shell.execute_reply": "2021-08-04T02:19:57.019030Z"
        },
        "trusted": true,
        "id": "FDYICBJJAuZP"
      },
      "source": [
        "from keras.preprocessing.image import ImageDataGenerator\n",
        "import matplotlib.pyplot as plt\n",
        "%matplotlib inline\n",
        "import numpy as np\n",
        "import pandas as pd \n",
        "import seaborn as sns\n",
        "from sklearn.metrics import confusion_matrix\n",
        "from sklearn.metrics import ConfusionMatrixDisplay\n",
        "from sklearn.model_selection import train_test_split\n",
        "import tensorflow as tf\n",
        "from tensorflow import keras\n",
        "from tensorflow.keras import layers\n",
        "from tensorflow.keras.layers.experimental import preprocessing\n",
        "import time, os\n",
        "import torch\n",
        "from torch.utils import data\n",
        "import torchvision\n",
        "import torchvision.transforms as transforms"
      ],
      "execution_count": 5,
      "outputs": []
    },
    {
      "cell_type": "markdown",
      "metadata": {
        "id": "jNoeetENAuZW"
      },
      "source": [
        "# Load data"
      ]
    },
    {
      "cell_type": "code",
      "metadata": {
        "execution": {
          "iopub.status.busy": "2021-08-03T12:13:21.226635Z",
          "iopub.execute_input": "2021-08-03T12:13:21.226997Z",
          "iopub.status.idle": "2021-08-03T12:13:25.348594Z",
          "shell.execute_reply.started": "2021-08-03T12:13:21.226966Z",
          "shell.execute_reply": "2021-08-03T12:13:25.347733Z"
        },
        "trusted": true,
        "id": "S_SkxUNrAuZW"
      },
      "source": [
        "# Load in data.\n",
        "train_data = pd.read_csv('/content/drive/MyDrive/Kaggle/Data/train.csv')\n",
        "test_data = pd.read_csv('/content/drive/MyDrive/Kaggle/Data/test.csv')"
      ],
      "execution_count": 11,
      "outputs": []
    },
    {
      "cell_type": "code",
      "metadata": {
        "execution": {
          "iopub.status.busy": "2021-08-03T12:13:25.350142Z",
          "iopub.execute_input": "2021-08-03T12:13:25.350495Z",
          "iopub.status.idle": "2021-08-03T12:13:25.916958Z",
          "shell.execute_reply.started": "2021-08-03T12:13:25.35046Z",
          "shell.execute_reply": "2021-08-03T12:13:25.915786Z"
        },
        "trusted": true,
        "id": "vv65OyH8AuZX"
      },
      "source": [
        "# Reshape for exploration.\n",
        "train_y = train_data.label.to_numpy()\n",
        "train_x = train_data.to_numpy()[0:,1:].reshape(len(train_data),28,28,1)\n",
        "test_x = test_data.to_numpy().reshape(len(test_data),28,28,1)"
      ],
      "execution_count": 13,
      "outputs": []
    },
    {
      "cell_type": "markdown",
      "metadata": {
        "id": "qxJTrEPwAuZa"
      },
      "source": [
        "# Exploration"
      ]
    },
    {
      "cell_type": "markdown",
      "metadata": {
        "id": "8ENdWSL4AuZc"
      },
      "source": [
        "# Preprocessing"
      ]
    },
    {
      "cell_type": "code",
      "metadata": {
        "id": "mdfnQ5LZUwmP"
      },
      "source": [
        "# Normalise - to speed up model. Better if values are between [0,1] then [0,255].\n",
        "train_x = train_x/255\n",
        "test_x = test_x/255"
      ],
      "execution_count": 14,
      "outputs": []
    },
    {
      "cell_type": "code",
      "metadata": {
        "id": "5Sn0olQLUuRK"
      },
      "source": [
        "# Split the data.\n",
        "train_x, dev_x, train_y, dev_y = train_test_split(train_x, train_y, test_size=0.2, random_state=42)"
      ],
      "execution_count": 15,
      "outputs": []
    },
    {
      "cell_type": "code",
      "metadata": {
        "id": "D2OpIgtfVDKh"
      },
      "source": [
        ""
      ],
      "execution_count": null,
      "outputs": []
    },
    {
      "cell_type": "markdown",
      "metadata": {
        "id": "dCV2YJNUAuZe"
      },
      "source": [
        "# Model"
      ]
    },
    {
      "cell_type": "code",
      "metadata": {
        "execution": {
          "iopub.status.busy": "2021-08-03T12:27:27.549083Z",
          "iopub.execute_input": "2021-08-03T12:27:27.549409Z",
          "iopub.status.idle": "2021-08-03T12:27:27.6328Z",
          "shell.execute_reply.started": "2021-08-03T12:27:27.549381Z",
          "shell.execute_reply": "2021-08-03T12:27:27.629702Z"
        },
        "trusted": true,
        "id": "uk8jVp45AuZe"
      },
      "source": [
        "model = keras.Sequential([\n",
        "    \n",
        "    # First Convolutional Block\n",
        "    layers.Conv2D(filters=64, kernel_size=3, activation=\"relu\", padding='same', input_shape=[28, 28, 1]),\n",
        "    layers.MaxPool2D(2),\n",
        "\n",
        "    # Second Convolutional Block\n",
        "    layers.Conv2D(filters=128, kernel_size=3, activation=\"relu\", padding='same'),\n",
        "    layers.MaxPool2D(2),\n",
        "\n",
        "    # Third Convolutional Block\n",
        "    layers.Conv2D(filters=256, kernel_size=3, activation=\"relu\", padding='same'),\n",
        "    layers.MaxPool2D(2),\n",
        "    \n",
        "    # Fourth Convolutional Block\n",
        "    layers.Conv2D(filters=512, kernel_size=3, activation=\"relu\", padding='same'),\n",
        "    layers.MaxPool2D(2),\n",
        "    \n",
        "    layers.Flatten(),\n",
        "    layers.Dropout(.2),\n",
        "    \n",
        "    layers.Dense(64,activation='relu'),\n",
        "    layers.Dense(10,activation='sigmoid')\n",
        "    \n",
        "])\n",
        "\n",
        "# model = keras.Sequential(\n",
        "#     [keras.layers.Dense(100,input_shape=(784,),activation='relu'),\n",
        "#     keras.layers.Dense(10,activation='sigmoid')])\n",
        "\n",
        "model.summary()"
      ],
      "execution_count": null,
      "outputs": []
    },
    {
      "cell_type": "markdown",
      "metadata": {
        "id": "kraAuplVWCq0"
      },
      "source": [
        "# Data Augmentation"
      ]
    },
    {
      "cell_type": "code",
      "metadata": {
        "execution": {
          "iopub.status.busy": "2021-08-03T12:28:31.251766Z",
          "iopub.execute_input": "2021-08-03T12:28:31.252093Z",
          "iopub.status.idle": "2021-08-03T12:28:31.301891Z",
          "shell.execute_reply.started": "2021-08-03T12:28:31.252065Z",
          "shell.execute_reply": "2021-08-03T12:28:31.301007Z"
        },
        "trusted": true,
        "id": "_N9ARIc4AuZf"
      },
      "source": [
        "datagen = ImageDataGenerator(\n",
        "        featurewise_center=False, # set input mean to 0 over the dataset\n",
        "        samplewise_center=False,  # set each sample mean to 0\n",
        "        featurewise_std_normalization=False,  # divide inputs by std of the dataset\n",
        "        samplewise_std_normalization=False,  # divide each input by its std\n",
        "        zca_whitening=False,  # apply ZCA whitening\n",
        "        rotation_range=10,  # randomly rotate images in the range (degrees, 0 to 180)\n",
        "        zoom_range = 0.1, # Randomly zoom image \n",
        "        width_shift_range=0.1,  # randomly shift images horizontally (fraction of total width)\n",
        "        height_shift_range=0.1,  # randomly shift images vertically (fraction of total height)\n",
        "        horizontal_flip=False,  # randomly flip images\n",
        "        vertical_flip=False)  # randomly flip images\n",
        "\n",
        "#datagen.fit(X_train)\n",
        "train_gen = datagen.flow(train_x,train_y, batch_size=32)\n"
      ],
      "execution_count": null,
      "outputs": []
    },
    {
      "cell_type": "markdown",
      "metadata": {
        "id": "PQ8m4BMLWHjh"
      },
      "source": [
        "# Train"
      ]
    },
    {
      "cell_type": "code",
      "metadata": {
        "execution": {
          "iopub.status.busy": "2021-08-03T12:29:49.092584Z",
          "iopub.execute_input": "2021-08-03T12:29:49.092936Z",
          "iopub.status.idle": "2021-08-03T12:34:07.445983Z",
          "shell.execute_reply.started": "2021-08-03T12:29:49.092906Z",
          "shell.execute_reply": "2021-08-03T12:34:07.445065Z"
        },
        "trusted": true,
        "id": "6yObZNYLAuZg"
      },
      "source": [
        "model.compile(\n",
        "    optimizer=tf.keras.optimizers.Adam(epsilon=0.01),\n",
        "    loss='sparse_categorical_crossentropy',\n",
        "    metrics=['accuracy']\n",
        ")\n",
        "\n",
        "history = model.fit(\n",
        "    train_gen,\n",
        "    epochs=20,\n",
        "    verbose=1,\n",
        ")"
      ],
      "execution_count": null,
      "outputs": []
    },
    {
      "cell_type": "markdown",
      "metadata": {
        "id": "auHZsK-5WJpd"
      },
      "source": [
        "# Dev Set Evaluation"
      ]
    },
    {
      "cell_type": "code",
      "metadata": {
        "execution": {
          "iopub.status.busy": "2021-08-03T12:46:28.130186Z",
          "iopub.execute_input": "2021-08-03T12:46:28.130542Z",
          "iopub.status.idle": "2021-08-03T12:46:28.581438Z",
          "shell.execute_reply.started": "2021-08-03T12:46:28.130514Z",
          "shell.execute_reply": "2021-08-03T12:46:28.580541Z"
        },
        "trusted": true,
        "id": "QUt7QSgtAuZg"
      },
      "source": [
        "dev_preds = model.predict(dev_x)\n",
        "dev_preds = np.argmax(dev_preds, axis=1)\n",
        "dev_preds"
      ],
      "execution_count": null,
      "outputs": []
    },
    {
      "cell_type": "code",
      "metadata": {
        "execution": {
          "iopub.status.busy": "2021-08-03T12:46:31.697037Z",
          "iopub.execute_input": "2021-08-03T12:46:31.697359Z",
          "iopub.status.idle": "2021-08-03T12:46:32.284981Z",
          "shell.execute_reply.started": "2021-08-03T12:46:31.697329Z",
          "shell.execute_reply": "2021-08-03T12:46:32.283998Z"
        },
        "trusted": true,
        "id": "AMrR_yVkAuZh"
      },
      "source": [
        "fig, ax = plt.subplots(figsize=(12, 12))\n",
        "cm = confusion_matrix(dev_y,dev_preds, normalize='true')\n",
        "disp = ConfusionMatrixDisplay(confusion_matrix=cm, display_labels = [0,1,2,3,4,5,6,7,8,9])\n",
        "disp = disp.plot(ax=ax)\n",
        "ax.set_title(\"Confusion Matrix\")\n",
        "plt.show()\n",
        "%matplotlib inline"
      ],
      "execution_count": null,
      "outputs": []
    },
    {
      "cell_type": "markdown",
      "metadata": {
        "id": "rBWwbZMLWOgE"
      },
      "source": [
        "# Test Set Predictions"
      ]
    },
    {
      "cell_type": "code",
      "metadata": {
        "execution": {
          "iopub.status.busy": "2021-08-03T12:46:40.898184Z",
          "iopub.execute_input": "2021-08-03T12:46:40.898502Z",
          "iopub.status.idle": "2021-08-03T12:46:42.422572Z",
          "shell.execute_reply.started": "2021-08-03T12:46:40.898473Z",
          "shell.execute_reply": "2021-08-03T12:46:42.421732Z"
        },
        "trusted": true,
        "id": "aHR1XozoAuZh"
      },
      "source": [
        "# test_data_new = test_data.to_numpy().reshape(len(test_data),28*28)\n",
        "test_preds = model.predict(test_x)\n",
        "test_preds = np.argmax(test_preds, axis=1)\n",
        "output = pd.DataFrame({'ImageId': range(1,28001), 'Label': test_preds})\n",
        "output.to_csv('First.csv', index=False)\n",
        "print(\"Submission successfully saved!\")"
      ],
      "execution_count": null,
      "outputs": []
    }
  ]
}